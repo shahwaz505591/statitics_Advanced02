{
 "cells": [
  {
   "cell_type": "code",
   "execution_count": 1,
   "id": "a1ca17e0-e7cb-4e88-9044-d1cf5d5dfbf8",
   "metadata": {},
   "outputs": [
    {
     "ename": "SyntaxError",
     "evalue": "invalid syntax (268958999.py, line 1)",
     "output_type": "error",
     "traceback": [
      "\u001b[0;36m  Cell \u001b[0;32mIn[1], line 1\u001b[0;36m\u001b[0m\n\u001b[0;31m    Q1: What are the Probability Mass Function (PMF) and Probability Density Function (PDF)? Explain with\u001b[0m\n\u001b[0m             ^\u001b[0m\n\u001b[0;31mSyntaxError\u001b[0m\u001b[0;31m:\u001b[0m invalid syntax\n"
     ]
    }
   ],
   "source": [
    "Q1: What are the Probability Mass Function (PMF) and Probability Density Function (PDF)? Explain with\n",
    "an example.\n",
    "Q2: What is Cumulative Density Function (CDF)? Explain with an example. Why CDF is used?\n",
    "Q3: What are some examples of situations where the normal distribution might be used as a model?\n",
    "Explain how the parameters of the normal distribution relate to the shape of the distribution.\n",
    "Q4: Explain the importance of Normal Distribution. Give a few real-life examples of Normal\n",
    "Distribution.\n",
    "Q5: What is Bernaulli Distribution? Give an Example. What is the difference between Bernoulli\n",
    "Distribution and Binomial Distribution?\n",
    "Q6. Consider a dataset with a mean of 50 and a standard deviation of 10. If we assume that the dataset\n",
    "is normally distributed, what is the probability that a randomly selected observation will be greater\n",
    "than 60? Use the appropriate formula and show your calculations.\n",
    "Q7: Explain uniform Distribution with an example.\n",
    "Q8: What is the z score? State the importance of the z score.\n",
    "Q9: What is Central Limit Theorem? State the significance of the Central Limit Theorem.\n",
    "Q10: State the assumptions of the Central Limit Theorem."
   ]
  },
  {
   "cell_type": "markdown",
   "id": "69a2cb92-a2d1-4159-bdd8-93a800a07a16",
   "metadata": {},
   "source": [
    "Q1: Probability Mass Function (PMF) and Probability Density Function (PDF).\n",
    "Ans:\n",
    "    \n",
    ".PMF: The PMF is a function that provides the probability of a discrete random variable taking on a specific value. It gives the probability for each possible outcome. For example, consider a fair six-sided die. The PMF would give you the probabilities of rolling each number from 1 to 6, and it would be a uniform distribution with each outcome having a probability of 1/6.\n",
    ".PDF: The PDF is a function that describes the probability distribution of a continuous random variable. It doesn't give the probability of specific values but rather the probability density at a particular point. For instance, in a standard normal distribution, the PDF tells you the likelihood of a random variable taking on a particular value, such as the probability density at the mean (0)."
   ]
  },
  {
   "cell_type": "markdown",
   "id": "864268db-3e33-4f36-87ba-f9cdc1c97db3",
   "metadata": {},
   "source": [
    "Q2: Cumulative Density Function (CDF).\n",
    "Ans:\n",
    "    \n",
    "\n",
    "The Cumulative Density Function (CDF) gives the probability that a random variable takes on a value less than or equal to a specific point. It provides a cumulative view of the probability distribution.\n",
    "Example: In the case of a standard normal distribution, the CDF at a value of 1.96 is approximately 0.975. This means that there is a 97.5% probability that a randomly selected observation from the standard normal distribution is less than or equal to 1.96. CDFs are useful for calculating probabilities and understanding the distribution's cumulative behavior."
   ]
  },
  {
   "cell_type": "markdown",
   "id": "f34c743f-76dc-40c8-b31b-7561e42b0f78",
   "metadata": {},
   "source": [
    "Q3: Use of Normal Distribution.\n",
    "Ans:\n",
    "\n",
    "The normal distribution is commonly used to model situations where data is symmetrically distributed around a central mean value and where extreme values are rare. Some examples include:\n",
    "Heights of a population.\n",
    "IQ scores.\n",
    "Errors in measurements.\n",
    "Stock price movements.\n",
    "The shape of the normal distribution is determined by two parameters: the mean (μ), which defines the center of the distribution, and the standard deviation (σ), which controls the spread or dispersion of the data. Smaller σ values result in a narrower and taller curve, while larger σ values result in a wider and flatter curve."
   ]
  },
  {
   "cell_type": "markdown",
   "id": "c7b505df-24aa-4758-9886-7cef0d331875",
   "metadata": {},
   "source": [
    "Q4: Importance of Normal Distribution.\n",
    "Ans:\n",
    "\n",
    "The normal distribution is crucial in statistics and data analysis because of its widespread applicability and several important properties, such as the Central Limit Theorem.\n",
    "Real-life examples of normal distribution include:\n",
    "Exam scores of a large student population.\n",
    "Heights of adult humans.\n",
    "IQ scores in a population.\n",
    "Measurement errors in scientific experiments.\n",
    "It simplifies statistical analysis and hypothesis testing and allows for the estimation of probabilities and confidence intervals."
   ]
  },
  {
   "cell_type": "markdown",
   "id": "71508abb-ff2c-44fb-9e71-b284fbe34a54",
   "metadata": {},
   "source": [
    "Q5: Bernoulli Distribution.\n",
    "Ans:\n",
    "\n",
    "The Bernoulli distribution models a random experiment with two possible outcomes: success (usually denoted as 1) and failure (usually denoted as 0).\n",
    "Example: Tossing a fair coin, where 1 can represent \"heads\" and 0 can represent \"tails.\"\n",
    "Difference between Bernoulli and Binomial Distribution:\n",
    "\n",
    "Bernoulli distribution deals with a single trial, while the binomial distribution is the sum of multiple independent Bernoulli trials. In other words, the binomial distribution models the number of successes in a fixed number of Bernoulli trials."
   ]
  },
  {
   "cell_type": "markdown",
   "id": "08c15ec1-feab-47a1-873c-1f2d6aac4bfb",
   "metadata": {},
   "source": [
    "Q6: Probability of a Normally Distributed Observation.\n",
    "Ans:\n",
    "\n",
    "To find the probability that a randomly selected observation from a normally distributed dataset with a mean (μ) of 50 and a standard deviation (σ) of 10 is greater than 60, you can use the standard normal distribution (z-score) formula:\n",
    "Z = (X - μ) / σ\n",
    "Z = (60 - 50) / 10 = 1.0\n",
    "Now, you can find the probability using a standard normal distribution table or calculator. The probability that Z > 1.0 is the area to the right of 1.0 under the standard normal curve, which is typically found to be approximately 0.1587 or 15.87%."
   ]
  },
  {
   "cell_type": "markdown",
   "id": "0dee9af1-d28b-4599-9bec-3b9968faeaa1",
   "metadata": {},
   "source": [
    "Q7: Uniform Distribution.\n",
    "Ans:\n",
    "\n",
    "The uniform distribution is characterized by a constant probability density over a specified range. In this distribution, all values in the range are equally likely to occur.\n",
    "Example: Rolling a fair six-sided die, where each outcome (1 to 6) has an equal probability of 1/6."
   ]
  },
  {
   "cell_type": "code",
   "execution_count": null,
   "id": "94b3f131-f80d-47df-9a54-d2a86d0ba510",
   "metadata": {},
   "outputs": [],
   "source": []
  }
 ],
 "metadata": {
  "kernelspec": {
   "display_name": "Python 3 (ipykernel)",
   "language": "python",
   "name": "python3"
  },
  "language_info": {
   "codemirror_mode": {
    "name": "ipython",
    "version": 3
   },
   "file_extension": ".py",
   "mimetype": "text/x-python",
   "name": "python",
   "nbconvert_exporter": "python",
   "pygments_lexer": "ipython3",
   "version": "3.10.8"
  }
 },
 "nbformat": 4,
 "nbformat_minor": 5
}
